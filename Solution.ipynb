{
 "cells": [
  {
   "cell_type": "code",
   "execution_count": 5,
   "metadata": {
    "ExecuteTime": {
     "end_time": "2020-01-28T22:43:36.916403Z",
     "start_time": "2020-01-28T22:43:36.913507Z"
    },
    "code_folding": [
     0
    ]
   },
   "outputs": [],
   "source": [
    "# Importing Libraries\n",
    "\n",
    "import os \n",
    "from google.cloud import bigquery"
   ]
  },
  {
   "cell_type": "code",
   "execution_count": 6,
   "metadata": {
    "ExecuteTime": {
     "end_time": "2020-01-28T22:43:37.349801Z",
     "start_time": "2020-01-28T22:43:37.345689Z"
    },
    "code_folding": [
     0
    ]
   },
   "outputs": [],
   "source": [
    "# Setting up environment, creating client\n",
    "\n",
    "os.environ[\"GOOGLE_APPLICATION_CREDENTIALS\"]=\"/Users/Sosa/Downloads/ironhack_service_account_big_query.json\"\n",
    "\n",
    "client = bigquery.Client()"
   ]
  },
  {
   "cell_type": "markdown",
   "metadata": {},
   "source": [
    "# Step 1: Calculate the royalties of each sales for each author\n",
    "Write a SELECT query to obtain the following output:\n",
    "\n",
    "Title ID\n",
    "\n",
    "Author ID\n",
    "\n",
    "Royalty of each sale for each author\n",
    "\n",
    "The formula is:\n",
    "  sales_royalty = titles.price * sales.qty * titles.royalty / 100 * titleauthor.royaltyper / 100\n",
    "  \n",
    "Note that titles.royalty and titleauthor.royaltyper are divided by 100 respectively because they are percentage numbers instead of floats.\n",
    "\n",
    "In the output of this step, each title may appear more than once for each author. This is because a title can have more than one sales."
   ]
  },
  {
   "cell_type": "code",
   "execution_count": 8,
   "metadata": {
    "ExecuteTime": {
     "end_time": "2020-01-28T22:44:13.149113Z",
     "start_time": "2020-01-28T22:44:10.778919Z"
    }
   },
   "outputs": [
    {
     "ename": "BadRequest",
     "evalue": "400 Column name title_id is ambiguous at [4:5]\n\n(job ID: 12daae35-c3e7-4ef2-9392-54fc77213eb9)\n\n                                     -----Query Job SQL Follows-----                                      \n\n    |    .    |    .    |    .    |    .    |    .    |    .    |    .    |    .    |    .    |    .    |\n   1:\n   2:SELECT\n   3:\n   4:    title_id AS Title_ID,\n   5:    au_id AS Author_ID,\n   6:    (titles.price * sales.qty * titles.royalty / 100 * titleauthor.royaltyper / 100) AS sales_royalty\n   7:    \n   8:\n   9:\n  10:FROM\n  11:    `ironhack-data-analytics-265219.publications.titleauthor` titleauthor\n  12:\n  13:JOIN\n  14:    `ironhack-data-analytics-265219.publications.authors` authors\n  15:ON\n  16:    titleauthor.au_id = authors.au_id\n  17:    \n  18:JOIN\n  19:    `ironhack-data-analytics-265219.publications.titles` titles\n  20:ON\n  21:    titles.title_id = titleauthor.title_id\n  22:\n  23:JOIN\n  24:    `ironhack-data-analytics-265219.publications.sales` sales\n  25:ON\n  26:    sales.title_id = titleauthor.title_id\n  27:    \n  28:ORDER BY\n  29:    sales_royalty DESC\n    |    .    |    .    |    .    |    .    |    .    |    .    |    .    |    .    |    .    |    .    |",
     "output_type": "error",
     "traceback": [
      "\u001b[0;31m---------------------------------------------------------------------------\u001b[0m",
      "\u001b[0;31mBadRequest\u001b[0m                                Traceback (most recent call last)",
      "\u001b[0;32m<ipython-input-8-8bc80ba5bb36>\u001b[0m in \u001b[0;36m<module>\u001b[0;34m\u001b[0m\n\u001b[1;32m     31\u001b[0m \u001b[0;34m\u001b[0m\u001b[0m\n\u001b[1;32m     32\u001b[0m \u001b[0mquery_job\u001b[0m \u001b[0;34m=\u001b[0m \u001b[0mclient\u001b[0m\u001b[0;34m.\u001b[0m\u001b[0mquery\u001b[0m\u001b[0;34m(\u001b[0m\u001b[0mquery\u001b[0m\u001b[0;34m=\u001b[0m \u001b[0mqry\u001b[0m\u001b[0;34m)\u001b[0m\u001b[0;34m\u001b[0m\u001b[0;34m\u001b[0m\u001b[0m\n\u001b[0;32m---> 33\u001b[0;31m \u001b[0mquery_job\u001b[0m\u001b[0;34m.\u001b[0m\u001b[0mto_dataframe\u001b[0m\u001b[0;34m(\u001b[0m\u001b[0;34m)\u001b[0m\u001b[0;34m\u001b[0m\u001b[0;34m\u001b[0m\u001b[0m\n\u001b[0m",
      "\u001b[0;32m/opt/anaconda3/lib/python3.7/site-packages/google/cloud/bigquery/job.py\u001b[0m in \u001b[0;36mto_dataframe\u001b[0;34m(self, bqstorage_client, dtypes, progress_bar_type)\u001b[0m\n\u001b[1;32m   3207\u001b[0m             \u001b[0mValueError\u001b[0m\u001b[0;34m:\u001b[0m \u001b[0mIf\u001b[0m \u001b[0mthe\u001b[0m\u001b[0;31m \u001b[0m\u001b[0;31m`\u001b[0m\u001b[0mpandas\u001b[0m\u001b[0;31m`\u001b[0m \u001b[0mlibrary\u001b[0m \u001b[0mcannot\u001b[0m \u001b[0mbe\u001b[0m \u001b[0mimported\u001b[0m\u001b[0;34m.\u001b[0m\u001b[0;34m\u001b[0m\u001b[0;34m\u001b[0m\u001b[0m\n\u001b[1;32m   3208\u001b[0m         \"\"\"\n\u001b[0;32m-> 3209\u001b[0;31m         return self.result().to_dataframe(\n\u001b[0m\u001b[1;32m   3210\u001b[0m             \u001b[0mbqstorage_client\u001b[0m\u001b[0;34m=\u001b[0m\u001b[0mbqstorage_client\u001b[0m\u001b[0;34m,\u001b[0m\u001b[0;34m\u001b[0m\u001b[0;34m\u001b[0m\u001b[0m\n\u001b[1;32m   3211\u001b[0m             \u001b[0mdtypes\u001b[0m\u001b[0;34m=\u001b[0m\u001b[0mdtypes\u001b[0m\u001b[0;34m,\u001b[0m\u001b[0;34m\u001b[0m\u001b[0;34m\u001b[0m\u001b[0m\n",
      "\u001b[0;32m/opt/anaconda3/lib/python3.7/site-packages/google/cloud/bigquery/job.py\u001b[0m in \u001b[0;36mresult\u001b[0;34m(self, timeout, page_size, retry, max_results)\u001b[0m\n\u001b[1;32m   3082\u001b[0m         \"\"\"\n\u001b[1;32m   3083\u001b[0m         \u001b[0;32mtry\u001b[0m\u001b[0;34m:\u001b[0m\u001b[0;34m\u001b[0m\u001b[0;34m\u001b[0m\u001b[0m\n\u001b[0;32m-> 3084\u001b[0;31m             \u001b[0msuper\u001b[0m\u001b[0;34m(\u001b[0m\u001b[0mQueryJob\u001b[0m\u001b[0;34m,\u001b[0m \u001b[0mself\u001b[0m\u001b[0;34m)\u001b[0m\u001b[0;34m.\u001b[0m\u001b[0mresult\u001b[0m\u001b[0;34m(\u001b[0m\u001b[0mtimeout\u001b[0m\u001b[0;34m=\u001b[0m\u001b[0mtimeout\u001b[0m\u001b[0;34m)\u001b[0m\u001b[0;34m\u001b[0m\u001b[0;34m\u001b[0m\u001b[0m\n\u001b[0m\u001b[1;32m   3085\u001b[0m \u001b[0;34m\u001b[0m\u001b[0m\n\u001b[1;32m   3086\u001b[0m             \u001b[0;31m# Return an iterator instead of returning the job.\u001b[0m\u001b[0;34m\u001b[0m\u001b[0;34m\u001b[0m\u001b[0;34m\u001b[0m\u001b[0m\n",
      "\u001b[0;32m/opt/anaconda3/lib/python3.7/site-packages/google/cloud/bigquery/job.py\u001b[0m in \u001b[0;36mresult\u001b[0;34m(self, timeout, retry)\u001b[0m\n\u001b[1;32m    776\u001b[0m             \u001b[0mself\u001b[0m\u001b[0;34m.\u001b[0m\u001b[0m_begin\u001b[0m\u001b[0;34m(\u001b[0m\u001b[0mretry\u001b[0m\u001b[0;34m=\u001b[0m\u001b[0mretry\u001b[0m\u001b[0;34m)\u001b[0m\u001b[0;34m\u001b[0m\u001b[0;34m\u001b[0m\u001b[0m\n\u001b[1;32m    777\u001b[0m         \u001b[0;31m# TODO: modify PollingFuture so it can pass a retry argument to done().\u001b[0m\u001b[0;34m\u001b[0m\u001b[0;34m\u001b[0m\u001b[0;34m\u001b[0m\u001b[0m\n\u001b[0;32m--> 778\u001b[0;31m         \u001b[0;32mreturn\u001b[0m \u001b[0msuper\u001b[0m\u001b[0;34m(\u001b[0m\u001b[0m_AsyncJob\u001b[0m\u001b[0;34m,\u001b[0m \u001b[0mself\u001b[0m\u001b[0;34m)\u001b[0m\u001b[0;34m.\u001b[0m\u001b[0mresult\u001b[0m\u001b[0;34m(\u001b[0m\u001b[0mtimeout\u001b[0m\u001b[0;34m=\u001b[0m\u001b[0mtimeout\u001b[0m\u001b[0;34m)\u001b[0m\u001b[0;34m\u001b[0m\u001b[0;34m\u001b[0m\u001b[0m\n\u001b[0m\u001b[1;32m    779\u001b[0m \u001b[0;34m\u001b[0m\u001b[0m\n\u001b[1;32m    780\u001b[0m     \u001b[0;32mdef\u001b[0m \u001b[0mcancelled\u001b[0m\u001b[0;34m(\u001b[0m\u001b[0mself\u001b[0m\u001b[0;34m)\u001b[0m\u001b[0;34m:\u001b[0m\u001b[0;34m\u001b[0m\u001b[0;34m\u001b[0m\u001b[0m\n",
      "\u001b[0;32m/opt/anaconda3/lib/python3.7/site-packages/google/api_core/future/polling.py\u001b[0m in \u001b[0;36mresult\u001b[0;34m(self, timeout)\u001b[0m\n\u001b[1;32m    125\u001b[0m             \u001b[0;31m# pylint: disable=raising-bad-type\u001b[0m\u001b[0;34m\u001b[0m\u001b[0;34m\u001b[0m\u001b[0;34m\u001b[0m\u001b[0m\n\u001b[1;32m    126\u001b[0m             \u001b[0;31m# Pylint doesn't recognize that this is valid in this case.\u001b[0m\u001b[0;34m\u001b[0m\u001b[0;34m\u001b[0m\u001b[0;34m\u001b[0m\u001b[0m\n\u001b[0;32m--> 127\u001b[0;31m             \u001b[0;32mraise\u001b[0m \u001b[0mself\u001b[0m\u001b[0;34m.\u001b[0m\u001b[0m_exception\u001b[0m\u001b[0;34m\u001b[0m\u001b[0;34m\u001b[0m\u001b[0m\n\u001b[0m\u001b[1;32m    128\u001b[0m \u001b[0;34m\u001b[0m\u001b[0m\n\u001b[1;32m    129\u001b[0m         \u001b[0;32mreturn\u001b[0m \u001b[0mself\u001b[0m\u001b[0;34m.\u001b[0m\u001b[0m_result\u001b[0m\u001b[0;34m\u001b[0m\u001b[0;34m\u001b[0m\u001b[0m\n",
      "\u001b[0;31mBadRequest\u001b[0m: 400 Column name title_id is ambiguous at [4:5]\n\n(job ID: 12daae35-c3e7-4ef2-9392-54fc77213eb9)\n\n                                     -----Query Job SQL Follows-----                                      \n\n    |    .    |    .    |    .    |    .    |    .    |    .    |    .    |    .    |    .    |    .    |\n   1:\n   2:SELECT\n   3:\n   4:    title_id AS Title_ID,\n   5:    au_id AS Author_ID,\n   6:    (titles.price * sales.qty * titles.royalty / 100 * titleauthor.royaltyper / 100) AS sales_royalty\n   7:    \n   8:\n   9:\n  10:FROM\n  11:    `ironhack-data-analytics-265219.publications.titleauthor` titleauthor\n  12:\n  13:JOIN\n  14:    `ironhack-data-analytics-265219.publications.authors` authors\n  15:ON\n  16:    titleauthor.au_id = authors.au_id\n  17:    \n  18:JOIN\n  19:    `ironhack-data-analytics-265219.publications.titles` titles\n  20:ON\n  21:    titles.title_id = titleauthor.title_id\n  22:\n  23:JOIN\n  24:    `ironhack-data-analytics-265219.publications.sales` sales\n  25:ON\n  26:    sales.title_id = titleauthor.title_id\n  27:    \n  28:ORDER BY\n  29:    sales_royalty DESC\n    |    .    |    .    |    .    |    .    |    .    |    .    |    .    |    .    |    .    |    .    |"
     ]
    }
   ],
   "source": [
    "qry= '''\n",
    "SELECT\n",
    "\n",
    "    title_id AS Title_ID,\n",
    "    au_id AS Author_ID,\n",
    "    (titles.price * sales.qty * titles.royalty / 100 * titleauthor.royaltyper / 100) AS sales_royalty\n",
    "    \n",
    "\n",
    "\n",
    "FROM\n",
    "    `ironhack-data-analytics-265219.publications.titleauthor` titleauthor\n",
    "\n",
    "JOIN\n",
    "    `ironhack-data-analytics-265219.publications.authors` authors\n",
    "ON\n",
    "    titleauthor.au_id = authors.au_id\n",
    "    \n",
    "JOIN\n",
    "    `ironhack-data-analytics-265219.publications.titles` titles\n",
    "ON\n",
    "    titles.title_id = titleauthor.title_id\n",
    "\n",
    "JOIN\n",
    "    `ironhack-data-analytics-265219.publications.sales` sales\n",
    "ON\n",
    "    sales.title_id = titleauthor.title_id\n",
    "    \n",
    "ORDER BY\n",
    "    sales_royalty DESC\n",
    "'''\n",
    "\n",
    "query_job = client.query(query= qry)\n",
    "query_job.to_dataframe()"
   ]
  },
  {
   "cell_type": "markdown",
   "metadata": {},
   "source": [
    "# Step 2: Aggregate the total royalties for each title for each author\n",
    "Using the output from Step 1, write a query to obtain the following output:\n",
    "\n",
    "Title ID\n",
    "\n",
    "Author ID\n",
    "\n",
    "Aggregated royalties of each title for each author\n",
    "\n",
    "Hint: use the SUM subquery and group by both au_id and title_id\n",
    "In the output of this step, each title should appear only once for each author."
   ]
  },
  {
   "cell_type": "code",
   "execution_count": null,
   "metadata": {
    "ExecuteTime": {
     "end_time": "2020-01-28T22:41:30.919436Z",
     "start_time": "2020-01-28T22:41:28.888Z"
    }
   },
   "outputs": [],
   "source": [
    "qry= '''\n",
    "\n",
    "SELECT\n",
    "\n",
    "    title_id AS Title_ID,\n",
    "    au_id AS author_id,\n",
    "    au_lname AS Last_Name,\n",
    "    au_fname AS First_Name,\n",
    "    advance AS Advance,\n",
    "    SUM(royalties) AS royalties, \n",
    "    \n",
    "FROM \n",
    "\n",
    "    (SELECT\n",
    "        titles.title_id,\n",
    "        titles.price,\n",
    "        titles.advance,\n",
    "        titles.royalty,\n",
    "        sales.qty,\n",
    "        authors.au_id,\n",
    "        au_lname,\n",
    "        au_fname,\n",
    "        titleauthor.royaltyper,\n",
    "        (titles.price * sales.qty * titles.royalty/100 * titleauthor.royaltyper / 100) AS royalties\n",
    "    FROM \n",
    "        `ironhack-data-analytics-265219.publications.titles` titles\n",
    "    JOIN\n",
    "        `ironhack-data-analytics-265219.publications.sales` sales\n",
    "    ON\n",
    "        sales.title_id = titles.title_id\n",
    "    JOIN\n",
    "        `ironhack-data-analytics-265219.publications.titleauthor` titleauthor \n",
    "    ON\n",
    "        titleauthor.title_id = sales.title_id\n",
    "    JOIN\n",
    "        `ironhack-data-analytics-265219.publications.authors` authors \n",
    "    ON\n",
    "        authors.au_id = titleauthor.au_id) subquery\n",
    "        \n",
    "GROUP BY\n",
    "    1,2,3,4,5\n",
    "'''\n",
    "\n",
    "query_job = client.query(query= qry)\n",
    "query_job.to_dataframe()"
   ]
  },
  {
   "cell_type": "markdown",
   "metadata": {},
   "source": [
    "# Step 3: Calculate the total profits of each author\n",
    "Now that each title has exactly one row for each author where the advance and royalties are available, we are ready to obtain the eventual output. Using the output from Step 2, write a query to obtain the following output:\n",
    "\n",
    "Author ID\n",
    "\n",
    "Profits of each author by aggregating the advance and total royalties of each title\n",
    "\n",
    "Sort the output based on a total profits from high to low, and limit the number of rows to 3."
   ]
  },
  {
   "cell_type": "code",
   "execution_count": null,
   "metadata": {
    "ExecuteTime": {
     "end_time": "2020-01-28T22:41:30.920699Z",
     "start_time": "2020-01-28T22:41:28.890Z"
    }
   },
   "outputs": [],
   "source": [
    "qry=('''\n",
    "\n",
    "WITH royalties AS(\n",
    "\n",
    "    SELECT\n",
    "    \n",
    "        authors.au_id AS Author_id,\n",
    "        authors.au_lname AS Last_name,\n",
    "        authors.au_fname AS First_Name,\n",
    "        SUM(titles.advance * titleauthor.royaltyper / 100) AS Advance,\n",
    "        SUM(titles.price * sales.qty * titles.royalty / 100 * titleauthor.royaltyper / 100) AS royalties\n",
    "        \n",
    "    FROM \n",
    "    \n",
    "        `ironhack-data-analytics-265219.publications.authors` authors\n",
    "        \n",
    "    JOIN\n",
    "        `ironhack-data-analytics-265219.publications.titleauthor` titleauthor\n",
    "    ON\n",
    "        titleauthor.au_id = authors.au_id\n",
    "        \n",
    "    JOIN\n",
    "        `ironhack-data-analytics-265219.publications.titles` titles\n",
    "    ON \n",
    "        titleauthor.title_id = titles.title_id\n",
    "        \n",
    "    JOIN\n",
    "        `ironhack-data-analytics-265219.publications.sales` sales\n",
    "    ON\n",
    "        titleauthor.title_id = sales.title_id\n",
    "        \n",
    "    GROUP BY\n",
    "        1,2,3\n",
    "    ORDER BY\n",
    "        authors.au_id ASC\n",
    "    )\n",
    "\n",
    "SELECT \n",
    "\n",
    "    royalties.author_id AS Author_id,\n",
    "    royalties.au_lname AS Last_name,\n",
    "    royalties.au_fname AS First_name,\n",
    "    (royalties.advance + royalties.royalties) AS Profit\n",
    "    \n",
    "FROM \n",
    "    royalties\n",
    "    \n",
    "GROUP BY\n",
    "    1,2,3,4\n",
    "    \n",
    "ORDER BY\n",
    "    total_profit DESC\n",
    "    \n",
    "LIMIT 3\n",
    "''')\n",
    "\n",
    "query_job = client.query(query= qry)\n",
    "query_job.to_dataframe()"
   ]
  },
  {
   "cell_type": "markdown",
   "metadata": {},
   "source": [
    "# Challenge 2\n",
    "Elevating from your solution in Challenge 1 , create a table named most_profiting_authors to hold the data about the most profiting authors. The table should have 2 columns:\n",
    "\n",
    "au_id - Author ID\n",
    "\n",
    "profits - The profits of the author aggregating the advances and royalties\n",
    "\n",
    "Include your solution in solutions.ipynb."
   ]
  },
  {
   "cell_type": "code",
   "execution_count": null,
   "metadata": {},
   "outputs": [],
   "source": []
  }
 ],
 "metadata": {
  "kernelspec": {
   "display_name": "Python 3",
   "language": "python",
   "name": "python3"
  },
  "language_info": {
   "codemirror_mode": {
    "name": "ipython",
    "version": 3
   },
   "file_extension": ".py",
   "mimetype": "text/x-python",
   "name": "python",
   "nbconvert_exporter": "python",
   "pygments_lexer": "ipython3",
   "version": "3.7.4"
  },
  "toc": {
   "base_numbering": 1,
   "nav_menu": {},
   "number_sections": true,
   "sideBar": true,
   "skip_h1_title": false,
   "title_cell": "Table of Contents",
   "title_sidebar": "Contents",
   "toc_cell": false,
   "toc_position": {},
   "toc_section_display": true,
   "toc_window_display": false
  },
  "varInspector": {
   "cols": {
    "lenName": 16,
    "lenType": 16,
    "lenVar": 40
   },
   "kernels_config": {
    "python": {
     "delete_cmd_postfix": "",
     "delete_cmd_prefix": "del ",
     "library": "var_list.py",
     "varRefreshCmd": "print(var_dic_list())"
    },
    "r": {
     "delete_cmd_postfix": ") ",
     "delete_cmd_prefix": "rm(",
     "library": "var_list.r",
     "varRefreshCmd": "cat(var_dic_list()) "
    }
   },
   "types_to_exclude": [
    "module",
    "function",
    "builtin_function_or_method",
    "instance",
    "_Feature"
   ],
   "window_display": false
  }
 },
 "nbformat": 4,
 "nbformat_minor": 2
}
