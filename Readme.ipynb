{
 "cells": [
  {
   "cell_type": "markdown",
   "metadata": {},
   "source": [
    "![IronHack Logo](https://s3-eu-west-1.amazonaws.com/ih-materials/uploads/upload_d5c5793015fec3be28a63c4fa3dd4d55.png)\n",
    "\n",
    "# Lab | Advanced MySQL\n",
    "\n",
    "## Introduction\n",
    "\n",
    "In this lab you will practice SQL Subqueries and Action Queries. We will again use the publications database.\n",
    "\n",
    "Create a `solutions.ipynb` file in the `your-code` directory to record your solutions to all challenges.\n",
    "\n",
    "## Challenge 1 - Most Profiting Authors\n",
    "\n",
    "In this challenge let's have a close look at the bonus challenge of the previous *SQL SELECT* lab -- **who are the top 3 most profiting authors**? Even if you have solved or think you have solved that problem in the previous lab, please still complete this challenge because the step-by-step guidances are helpful to train your problem-solving thinking.\n",
    "\n",
    "In order to solve this problem, it is important for you to keep the following points in mind:\n",
    "\n",
    "* In table `sales`, a title can appear several times. The royalties need to be calculated for each sale.\n",
    "\n",
    "* Despite a title can have multiple `sales` records, the advance must be calculated only once for each title.\n",
    "\n",
    "* In your eventual solution, you need to sum up the following profits for each individual author:\n",
    "    * All advances which is calculated exactly once for each title.\n",
    "    * All royalties in each sale.\n",
    "\n",
    "Therefore, you will not be able to achieve the goal with a single SELECT query. Instead, you will need to follow several steps in order to achieve the eventual solution. Below is an overview of the steps:\n",
    "\n",
    "1. Calculate the royalty of each sale for each author.\n",
    "\n",
    "1. Using the output from Step 1 as a sub-table, aggregate the total royalties for each title for each author.\n",
    "\n",
    "1. Using the output from Step 2 as a sub-table, calculate the total profits of each author by aggregating the advances and total royalties of each title.\n",
    "\n",
    "Below we'll guide you through each step. In your `solutions.ipynb`, please include the SELECT queries of each step so that your TA can review your problem-solving process.\n",
    "\n",
    "### Step 1: Calculate the royalties of each sales for each author\n",
    "\n",
    "Write a SELECT query to obtain the following output:\n",
    "\n",
    "* Title ID\n",
    "* Author ID\n",
    "* Royalty of each sale for each author\n",
    "    * The formula is:\n",
    "        ```\n",
    "        sales_royalty = titles.price * sales.qty * titles.royalty / 100 * titleauthor.royaltyper / 100\n",
    "        ```\n",
    "    * Note that `titles.royalty` and `titleauthor.royaltyper` are divided by 100 respectively because they are percentage numbers instead of floats.\n",
    "\n",
    "In the output of this step, each title may appear more than once for each author. This is because a title can have more than one sales.\n",
    "\n",
    "### Step 2: Aggregate the total royalties for each title for each author\n",
    "\n",
    "Using the output from Step 1, write a query to obtain the following output:\n",
    "\n",
    "* Title ID\n",
    "* Author ID\n",
    "* Aggregated royalties of each title for each author\n",
    "    * Hint: use the *SUM* subquery and group by both `au_id` and `title_id`\n",
    "\n",
    "In the output of this step, each title should appear only once for each author.\n",
    "\n",
    "### Step 3: Calculate the total profits of each author\n",
    "\n",
    "Now that each title has exactly one row for each author where the advance and royalties are available, we are ready to obtain the eventual output. Using the output from Step 2, write a query to obtain the following output:\n",
    "\n",
    "* Author ID\n",
    "* Profits of each author by aggregating the advance and total royalties of each title\n",
    "\n",
    "Sort the output based on a total profits from high to low, and limit the number of rows to 3.\n",
    "\n",
    "## Challenge 2\n",
    "\n",
    "Elevating from your solution in Challenge 1 , create a table named `most_profiting_authors` to hold the data about the most profiting authors. The table should have 2 columns:\n",
    "\n",
    "* `au_id` - Author ID\n",
    "* `profits` - The profits of the author aggregating the advances and royalties\n",
    "\n",
    "Include your solution in `solutions.ipynb`.\n",
    "\n",
    "\n"
   ]
  },
  {
   "cell_type": "code",
   "execution_count": null,
   "metadata": {},
   "outputs": [],
   "source": []
  }
 ],
 "metadata": {
  "kernelspec": {
   "display_name": "Python 3",
   "language": "python",
   "name": "python3"
  },
  "language_info": {
   "codemirror_mode": {
    "name": "ipython",
    "version": 3
   },
   "file_extension": ".py",
   "mimetype": "text/x-python",
   "name": "python",
   "nbconvert_exporter": "python",
   "pygments_lexer": "ipython3",
   "version": "3.7.4"
  },
  "toc": {
   "base_numbering": 1,
   "nav_menu": {},
   "number_sections": true,
   "sideBar": true,
   "skip_h1_title": false,
   "title_cell": "Table of Contents",
   "title_sidebar": "Contents",
   "toc_cell": false,
   "toc_position": {},
   "toc_section_display": true,
   "toc_window_display": false
  },
  "varInspector": {
   "cols": {
    "lenName": 16,
    "lenType": 16,
    "lenVar": 40
   },
   "kernels_config": {
    "python": {
     "delete_cmd_postfix": "",
     "delete_cmd_prefix": "del ",
     "library": "var_list.py",
     "varRefreshCmd": "print(var_dic_list())"
    },
    "r": {
     "delete_cmd_postfix": ") ",
     "delete_cmd_prefix": "rm(",
     "library": "var_list.r",
     "varRefreshCmd": "cat(var_dic_list()) "
    }
   },
   "types_to_exclude": [
    "module",
    "function",
    "builtin_function_or_method",
    "instance",
    "_Feature"
   ],
   "window_display": false
  }
 },
 "nbformat": 4,
 "nbformat_minor": 2
}
